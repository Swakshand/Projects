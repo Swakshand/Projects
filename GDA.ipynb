{
 "cells": [
  {
   "cell_type": "code",
   "execution_count": 1,
   "id": "6933ae06",
   "metadata": {},
   "outputs": [],
   "source": [
    "import numpy as np\n",
    "import pandas as pd\n",
    "import matplotlib.pyplot as plt\n",
    "%matplotlib inline\n",
    "from sklearn.datasets import load_iris\n",
    "from scipy.stats import multivariate_normal\n",
    "from sklearn.metrics import f1_score\n",
    "from sklearn.model_selection import train_test_split"
   ]
  },
  {
   "cell_type": "code",
   "execution_count": 2,
   "id": "9b5cd745",
   "metadata": {},
   "outputs": [],
   "source": [
    "def fit(x_train, y_train):\n",
    "    m = y_train.shape[0]\n",
    "    x_train = x_train.reshape(m, -1)\n",
    "    input_feature = x_train.shape[1]\n",
    "    class_label = len(np.unique(y_train.reshape(-1)))\n",
    "    \n",
    "    mu = np.zeros((class_label, input_feature))\n",
    "    sigma = np.zeros((class_label, input_feature, input_feature))\n",
    "    phi = np.zeros(class_label)\n",
    "\n",
    "    for label in range(class_label):\n",
    "        indices = (y_train == label)\n",
    "        phi[label] = float(np.sum(indices)) / m\n",
    "        mu[label] = np.mean(x_train[indices, :], axis=0)\n",
    "        sigma[label] = np.cov(x_train[indices, :], rowvar=0)\n",
    "    return phi, mu, sigma"
   ]
  },
  {
   "cell_type": "code",
   "execution_count": 3,
   "id": "653e5965",
   "metadata": {},
   "outputs": [],
   "source": [
    "def predict(x_tests, phi, mu, sigma):\n",
    "    x_tests = x_tests.reshape(x_tests.shape[0], -1)\n",
    "    class_label = mu.shape[0] \n",
    "    scores = np.zeros((x_tests.shape[0], class_label))  \n",
    "    for label in range(class_label): \n",
    "        normal_distribution_prob = multivariate_normal(mean=mu[label], cov=sigma[label])\n",
    "        for i, x_test in enumerate(x_tests):\n",
    "            scores[i, label] = np.log(phi[label]) + normal_distribution_prob.logpdf(x_test)\n",
    "    predictions = np.argmax(scores, axis=1)\n",
    "    return predictions"
   ]
  },
  {
   "cell_type": "code",
   "execution_count": 4,
   "id": "f2543bfe",
   "metadata": {},
   "outputs": [
    {
     "name": "stdout",
     "output_type": "stream",
     "text": [
      "f1 score of our model:  0.9204867006225242\n"
     ]
    }
   ],
   "source": [
    "data = load_iris()\n",
    "x_train, x_test, y_train, y_test = train_test_split(data.data, data.target)\n",
    "phi, mu, sigma = fit(x_train, y_train)\n",
    "y_predict = predict(x_test, phi, mu, sigma)\n",
    "score = f1_score(y_test, y_predict, average=\"weighted\")\n",
    "print(\"f1 score of our model: \", score)"
   ]
  },
  {
   "cell_type": "code",
   "execution_count": null,
   "id": "033fb5cc",
   "metadata": {},
   "outputs": [],
   "source": []
  }
 ],
 "metadata": {
  "kernelspec": {
   "display_name": "Python 3 (ipykernel)",
   "language": "python",
   "name": "python3"
  },
  "language_info": {
   "codemirror_mode": {
    "name": "ipython",
    "version": 3
   },
   "file_extension": ".py",
   "mimetype": "text/x-python",
   "name": "python",
   "nbconvert_exporter": "python",
   "pygments_lexer": "ipython3",
   "version": "3.11.5"
  }
 },
 "nbformat": 4,
 "nbformat_minor": 5
}
