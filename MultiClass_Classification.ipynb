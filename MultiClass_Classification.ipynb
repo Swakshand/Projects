{
 "cells": [
  {
   "cell_type": "code",
   "execution_count": 16,
   "metadata": {},
   "outputs": [],
   "source": [
    "import numpy as np\n",
    "import pandas as pd\n",
    "import matplotlib.pyplot as plt\n",
    "%matplotlib inline\n",
    "import scipy.io \n",
    "import scipy.misc\n",
    "import matplotlib.cm as cm\n",
    "import random\n",
    "from scipy.special import expit"
   ]
  },
  {
   "cell_type": "code",
   "execution_count": 17,
   "metadata": {},
   "outputs": [
    {
     "name": "stdout",
     "output_type": "stream",
     "text": [
      "'y' shape: (5000, 1). Unique elements in y: [ 1  2  3  4  5  6  7  8  9 10]\n",
      "'X' shape: (5000, 401). X[0] shape: (401,)\n"
     ]
    }
   ],
   "source": [
    "datafile = 'C:\\\\Users\\\\Dell\\\\OneDrive\\\\Desktop\\\\DSA\\\\ML\\\\CS229_assignments\\\\EX3\\\\ex3data1.mat'\n",
    "mat = scipy.io.loadmat( datafile )\n",
    "X, y = mat['X'], mat['y']\n",
    "X = np.insert(X,0,1,axis=1)\n",
    "print(\"'y' shape: %s. Unique elements in y: %s\"%(mat['y'].shape,np.unique(mat['y'])))\n",
    "print(\"'X' shape: %s. X[0] shape: %s\"%(X.shape,X[0].shape))"
   ]
  },
  {
   "cell_type": "code",
   "execution_count": 18,
   "metadata": {},
   "outputs": [
    {
     "data": {
      "text/plain": [
       "(array([[1., 0., 0., ..., 0., 0., 0.],\n",
       "        [1., 0., 0., ..., 0., 0., 0.],\n",
       "        [1., 0., 0., ..., 0., 0., 0.],\n",
       "        ...,\n",
       "        [1., 0., 0., ..., 0., 0., 0.],\n",
       "        [1., 0., 0., ..., 0., 0., 0.],\n",
       "        [1., 0., 0., ..., 0., 0., 0.]]),\n",
       " array([[10],\n",
       "        [10],\n",
       "        [10],\n",
       "        ...,\n",
       "        [ 9],\n",
       "        [ 9],\n",
       "        [ 9]], dtype=uint8))"
      ]
     },
     "execution_count": 18,
     "metadata": {},
     "output_type": "execute_result"
    }
   ],
   "source": [
    "X, y"
   ]
  },
  {
   "cell_type": "code",
   "execution_count": 21,
   "metadata": {},
   "outputs": [],
   "source": [
    "def h(mytheta,myX):\n",
    "    return expit(np.dot(myX,mytheta))"
   ]
  },
  {
   "cell_type": "code",
   "execution_count": 22,
   "metadata": {},
   "outputs": [],
   "source": [
    "def computeCost(mytheta,myX,myy,mylambda = 0.):\n",
    "    m = myX.shape[0] #5000\n",
    "    myh = h(mytheta,myX) #shape: (5000,1)\n",
    "    term1 = np.log( myh ).dot( -myy.T ) #shape: (5000,5000)\n",
    "    term2 = np.log( 1.0 - myh ).dot( 1 - myy.T ) #shape: (5000,5000)\n",
    "    left_hand = (term1 - term2) / m #shape: (5000,5000)\n",
    "    right_hand = mytheta.T.dot( mytheta ) * mylambda / (2*m) #shape: (1,1)\n",
    "    return left_hand + right_hand #shape: (5000,5000)"
   ]
  },
  {
   "cell_type": "code",
   "execution_count": 23,
   "metadata": {},
   "outputs": [],
   "source": [
    "def costGradient(mytheta,myX,myy,mylambda = 0.):\n",
    "    m = myX.shape[0]\n",
    "    beta = h(mytheta,myX)-myy.T\n",
    "\n",
    "    regterm = mytheta[1:]*(mylambda/m) #shape: (400,1)\n",
    "    grad = (1./m)*np.dot(myX.T,beta) #shape: (401, 5000)\n",
    "    grad[1:] = grad[1:] + regterm\n",
    "    return grad #shape: (401, 5000)"
   ]
  },
  {
   "cell_type": "code",
   "execution_count": 24,
   "metadata": {},
   "outputs": [],
   "source": [
    "from scipy import optimize\n",
    "def optimizeTheta(mytheta,myX,myy,mylambda=0.):\n",
    "    result = optimize.fmin_cg(computeCost, fprime=costGradient, x0=mytheta, \\\n",
    "                              args=(myX, myy, mylambda), maxiter=50, disp=False,\\\n",
    "                              full_output=True)\n",
    "    return result[0], result[1]"
   ]
  },
  {
   "cell_type": "code",
   "execution_count": 25,
   "metadata": {},
   "outputs": [],
   "source": [
    "def buildTheta():\n",
    "    mylambda = 0.\n",
    "    initial_theta = np.zeros((X.shape[1],1)).reshape(-1)\n",
    "    Theta = np.zeros((10,X.shape[1]))\n",
    "    for i in range(10):\n",
    "        iclass = i if i else 10 \n",
    "        print(\"Optimizing for handwritten number %d...\"%i)\n",
    "        # reshape((X.shape[0],1))\n",
    "        logic_Y = np.array([1 if x == iclass else 0 for x in y])\n",
    "        itheta, imincost = optimizeTheta(initial_theta,X,logic_Y,mylambda)\n",
    "        Theta[i,:] = itheta\n",
    "    print(\"Done!\")\n",
    "    return Theta"
   ]
  },
  {
   "cell_type": "code",
   "execution_count": 26,
   "metadata": {
    "scrolled": true
   },
   "outputs": [
    {
     "name": "stdout",
     "output_type": "stream",
     "text": [
      "Optimizing for handwritten number 0...\n",
      "Optimizing for handwritten number 1...\n",
      "Optimizing for handwritten number 2...\n",
      "Optimizing for handwritten number 3...\n",
      "Optimizing for handwritten number 4...\n",
      "Optimizing for handwritten number 5...\n",
      "Optimizing for handwritten number 6...\n",
      "Optimizing for handwritten number 7...\n",
      "Optimizing for handwritten number 8...\n",
      "Optimizing for handwritten number 9...\n",
      "Done!\n"
     ]
    }
   ],
   "source": [
    "Theta = buildTheta()"
   ]
  },
  {
   "cell_type": "code",
   "execution_count": 27,
   "metadata": {},
   "outputs": [
    {
     "name": "stdout",
     "output_type": "stream",
     "text": [
      "[[-8.01221263e+00  0.00000000e+00  0.00000000e+00 ... -4.57543305e-04\n",
      "   2.23253475e-05  0.00000000e+00]\n",
      " [-3.05422655e+00  0.00000000e+00  0.00000000e+00 ...  4.11428941e-03\n",
      "   2.59650608e-07  0.00000000e+00]\n",
      " [-2.86285942e+00  0.00000000e+00  0.00000000e+00 ...  5.87023922e-03\n",
      "  -6.70822503e-04  0.00000000e+00]\n",
      " ...\n",
      " [-2.74038255e+00  0.00000000e+00  0.00000000e+00 ... -1.53592172e-03\n",
      "   1.90101331e-04  0.00000000e+00]\n",
      " [-8.69371256e+00  0.00000000e+00  0.00000000e+00 ... -1.22687182e-04\n",
      "   1.17820239e-05  0.00000000e+00]\n",
      " [-5.50736739e+00  0.00000000e+00  0.00000000e+00 ... -1.21616616e-03\n",
      "   9.25597799e-05  0.00000000e+00]]\n"
     ]
    }
   ],
   "source": [
    "print(Theta)"
   ]
  },
  {
   "cell_type": "code",
   "execution_count": 28,
   "metadata": {},
   "outputs": [
    {
     "data": {
      "text/plain": [
       "(10, 401)"
      ]
     },
     "execution_count": 28,
     "metadata": {},
     "output_type": "execute_result"
    }
   ],
   "source": [
    "Theta.shape"
   ]
  },
  {
   "cell_type": "code",
   "execution_count": 29,
   "metadata": {},
   "outputs": [],
   "source": [
    "def predictOneVsAll(myTheta,myrow):\n",
    "    classes = [10] + range(1,10)\n",
    "    hypots  = [0]*len(classes)\n",
    "    for i in xrange(len(classes)):\n",
    "        hypots[i] = h(myTheta[i],myrow)\n",
    "    return classes[np.argmax(np.array(hypots))]"
   ]
  },
  {
   "cell_type": "code",
   "execution_count": null,
   "metadata": {},
   "outputs": [],
   "source": []
  }
 ],
 "metadata": {
  "kernelspec": {
   "display_name": "Python 3 (ipykernel)",
   "language": "python",
   "name": "python3"
  },
  "language_info": {
   "codemirror_mode": {
    "name": "ipython",
    "version": 3
   },
   "file_extension": ".py",
   "mimetype": "text/x-python",
   "name": "python",
   "nbconvert_exporter": "python",
   "pygments_lexer": "ipython3",
   "version": "3.11.5"
  }
 },
 "nbformat": 4,
 "nbformat_minor": 1
}
